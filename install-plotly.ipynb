{
 "cells": [
  {
   "cell_type": "code",
   "execution_count": 1,
   "metadata": {},
   "outputs": [
    {
     "name": "stdout",
     "output_type": "stream",
     "text": [
      "Requirement already satisfied: plotly in c:\\users\\steve\\anaconda3\\lib\\site-packages (4.9.0)\n",
      "Requirement already satisfied: six in c:\\users\\steve\\anaconda3\\lib\\site-packages (from plotly) (1.14.0)\n",
      "Requirement already satisfied: retrying>=1.3.3 in c:\\users\\steve\\anaconda3\\lib\\site-packages (from plotly) (1.3.3)\n"
     ]
    }
   ],
   "source": [
    "!pip install plotly"
   ]
  },
  {
   "cell_type": "code",
   "execution_count": 2,
   "metadata": {},
   "outputs": [
    {
     "name": "stdout",
     "output_type": "stream",
     "text": [
      "Requirement already satisfied: ipywidgets in c:\\users\\steve\\anaconda3\\lib\\site-packages (7.5.1)\n",
      "Requirement already satisfied: widgetsnbextension~=3.5.0 in c:\\users\\steve\\anaconda3\\lib\\site-packages (from ipywidgets) (3.5.1)\n",
      "Requirement already satisfied: traitlets>=4.3.1 in c:\\users\\steve\\anaconda3\\lib\\site-packages (from ipywidgets) (4.3.3)\n",
      "Requirement already satisfied: ipython>=4.0.0; python_version >= \"3.3\" in c:\\users\\steve\\anaconda3\\lib\\site-packages (from ipywidgets) (7.12.0)\n",
      "Requirement already satisfied: nbformat>=4.2.0 in c:\\users\\steve\\anaconda3\\lib\\site-packages (from ipywidgets) (5.0.4)\n",
      "Requirement already satisfied: ipykernel>=4.5.1 in c:\\users\\steve\\anaconda3\\lib\\site-packages (from ipywidgets) (5.1.4)\n",
      "Requirement already satisfied: notebook>=4.4.1 in c:\\users\\steve\\anaconda3\\lib\\site-packages (from widgetsnbextension~=3.5.0->ipywidgets) (6.0.3)\n",
      "Requirement already satisfied: ipython-genutils in c:\\users\\steve\\anaconda3\\lib\\site-packages (from traitlets>=4.3.1->ipywidgets) (0.2.0)\n",
      "Requirement already satisfied: six in c:\\users\\steve\\anaconda3\\lib\\site-packages (from traitlets>=4.3.1->ipywidgets) (1.14.0)\n",
      "Requirement already satisfied: decorator in c:\\users\\steve\\anaconda3\\lib\\site-packages (from traitlets>=4.3.1->ipywidgets) (4.4.1)\n",
      "Requirement already satisfied: pickleshare in c:\\users\\steve\\anaconda3\\lib\\site-packages (from ipython>=4.0.0; python_version >= \"3.3\"->ipywidgets) (0.7.5)\n",
      "Requirement already satisfied: backcall in c:\\users\\steve\\anaconda3\\lib\\site-packages (from ipython>=4.0.0; python_version >= \"3.3\"->ipywidgets) (0.1.0)\n",
      "Requirement already satisfied: setuptools>=18.5 in c:\\users\\steve\\anaconda3\\lib\\site-packages (from ipython>=4.0.0; python_version >= \"3.3\"->ipywidgets) (45.2.0.post20200210)\n",
      "Requirement already satisfied: colorama; sys_platform == \"win32\" in c:\\users\\steve\\anaconda3\\lib\\site-packages (from ipython>=4.0.0; python_version >= \"3.3\"->ipywidgets) (0.4.3)\n",
      "Requirement already satisfied: prompt-toolkit!=3.0.0,!=3.0.1,<3.1.0,>=2.0.0 in c:\\users\\steve\\anaconda3\\lib\\site-packages (from ipython>=4.0.0; python_version >= \"3.3\"->ipywidgets) (3.0.3)\n",
      "Requirement already satisfied: jedi>=0.10 in c:\\users\\steve\\anaconda3\\lib\\site-packages (from ipython>=4.0.0; python_version >= \"3.3\"->ipywidgets) (0.14.1)\n",
      "Requirement already satisfied: pygments in c:\\users\\steve\\anaconda3\\lib\\site-packages (from ipython>=4.0.0; python_version >= \"3.3\"->ipywidgets) (2.5.2)\n",
      "Requirement already satisfied: jsonschema!=2.5.0,>=2.4 in c:\\users\\steve\\anaconda3\\lib\\site-packages (from nbformat>=4.2.0->ipywidgets) (3.2.0)\n",
      "Requirement already satisfied: jupyter-core in c:\\users\\steve\\anaconda3\\lib\\site-packages (from nbformat>=4.2.0->ipywidgets) (4.6.1)\n",
      "Requirement already satisfied: tornado>=4.2 in c:\\users\\steve\\anaconda3\\lib\\site-packages (from ipykernel>=4.5.1->ipywidgets) (6.0.3)\n",
      "Requirement already satisfied: jupyter-client in c:\\users\\steve\\anaconda3\\lib\\site-packages (from ipykernel>=4.5.1->ipywidgets) (5.3.4)\n",
      "Requirement already satisfied: Send2Trash in c:\\users\\steve\\anaconda3\\lib\\site-packages (from notebook>=4.4.1->widgetsnbextension~=3.5.0->ipywidgets) (1.5.0)\n",
      "Requirement already satisfied: pyzmq>=17 in c:\\users\\steve\\anaconda3\\lib\\site-packages (from notebook>=4.4.1->widgetsnbextension~=3.5.0->ipywidgets) (18.1.1)\n",
      "Requirement already satisfied: nbconvert in c:\\users\\steve\\anaconda3\\lib\\site-packages (from notebook>=4.4.1->widgetsnbextension~=3.5.0->ipywidgets) (5.6.1)\n",
      "Requirement already satisfied: terminado>=0.8.1 in c:\\users\\steve\\anaconda3\\lib\\site-packages (from notebook>=4.4.1->widgetsnbextension~=3.5.0->ipywidgets) (0.8.3)\n",
      "Requirement already satisfied: prometheus-client in c:\\users\\steve\\anaconda3\\lib\\site-packages (from notebook>=4.4.1->widgetsnbextension~=3.5.0->ipywidgets) (0.7.1)\n",
      "Requirement already satisfied: jinja2 in c:\\users\\steve\\anaconda3\\lib\\site-packages (from notebook>=4.4.1->widgetsnbextension~=3.5.0->ipywidgets) (2.11.1)\n",
      "Requirement already satisfied: wcwidth in c:\\users\\steve\\anaconda3\\lib\\site-packages (from prompt-toolkit!=3.0.0,!=3.0.1,<3.1.0,>=2.0.0->ipython>=4.0.0; python_version >= \"3.3\"->ipywidgets) (0.1.8)\n",
      "Requirement already satisfied: parso>=0.5.0 in c:\\users\\steve\\anaconda3\\lib\\site-packages (from jedi>=0.10->ipython>=4.0.0; python_version >= \"3.3\"->ipywidgets) (0.5.2)\n",
      "Requirement already satisfied: importlib-metadata; python_version < \"3.8\" in c:\\users\\steve\\anaconda3\\lib\\site-packages (from jsonschema!=2.5.0,>=2.4->nbformat>=4.2.0->ipywidgets) (1.5.0)\n",
      "Requirement already satisfied: attrs>=17.4.0 in c:\\users\\steve\\anaconda3\\lib\\site-packages (from jsonschema!=2.5.0,>=2.4->nbformat>=4.2.0->ipywidgets) (19.3.0)\n",
      "Requirement already satisfied: pyrsistent>=0.14.0 in c:\\users\\steve\\anaconda3\\lib\\site-packages (from jsonschema!=2.5.0,>=2.4->nbformat>=4.2.0->ipywidgets) (0.15.7)\n",
      "Requirement already satisfied: pywin32>=1.0; sys_platform == \"win32\" in c:\\users\\steve\\anaconda3\\lib\\site-packages (from jupyter-core->nbformat>=4.2.0->ipywidgets) (227)\n",
      "Requirement already satisfied: python-dateutil>=2.1 in c:\\users\\steve\\anaconda3\\lib\\site-packages (from jupyter-client->ipykernel>=4.5.1->ipywidgets) (2.8.1)\n",
      "Requirement already satisfied: bleach in c:\\users\\steve\\anaconda3\\lib\\site-packages (from nbconvert->notebook>=4.4.1->widgetsnbextension~=3.5.0->ipywidgets) (3.1.0)\n",
      "Requirement already satisfied: testpath in c:\\users\\steve\\anaconda3\\lib\\site-packages (from nbconvert->notebook>=4.4.1->widgetsnbextension~=3.5.0->ipywidgets) (0.4.4)\n",
      "Requirement already satisfied: pandocfilters>=1.4.1 in c:\\users\\steve\\anaconda3\\lib\\site-packages (from nbconvert->notebook>=4.4.1->widgetsnbextension~=3.5.0->ipywidgets) (1.4.2)\n",
      "Requirement already satisfied: mistune<2,>=0.8.1 in c:\\users\\steve\\anaconda3\\lib\\site-packages (from nbconvert->notebook>=4.4.1->widgetsnbextension~=3.5.0->ipywidgets) (0.8.4)\n",
      "Requirement already satisfied: entrypoints>=0.2.2 in c:\\users\\steve\\anaconda3\\lib\\site-packages (from nbconvert->notebook>=4.4.1->widgetsnbextension~=3.5.0->ipywidgets) (0.3)\n",
      "Requirement already satisfied: defusedxml in c:\\users\\steve\\anaconda3\\lib\\site-packages (from nbconvert->notebook>=4.4.1->widgetsnbextension~=3.5.0->ipywidgets) (0.6.0)\n",
      "Requirement already satisfied: MarkupSafe>=0.23 in c:\\users\\steve\\anaconda3\\lib\\site-packages (from jinja2->notebook>=4.4.1->widgetsnbextension~=3.5.0->ipywidgets) (1.1.1)\n",
      "Requirement already satisfied: zipp>=0.5 in c:\\users\\steve\\anaconda3\\lib\\site-packages (from importlib-metadata; python_version < \"3.8\"->jsonschema!=2.5.0,>=2.4->nbformat>=4.2.0->ipywidgets) (2.2.0)\n",
      "Requirement already satisfied: webencodings in c:\\users\\steve\\anaconda3\\lib\\site-packages (from bleach->nbconvert->notebook>=4.4.1->widgetsnbextension~=3.5.0->ipywidgets) (0.5.1)\n",
      "Note: you may need to restart the kernel to use updated packages.\n"
     ]
    }
   ],
   "source": [
    "pip install ipywidgets"
   ]
  },
  {
   "cell_type": "code",
   "execution_count": null,
   "metadata": {},
   "outputs": [],
   "source": [
    "!conda create --name dash"
   ]
  },
  {
   "cell_type": "code",
   "execution_count": null,
   "metadata": {},
   "outputs": [],
   "source": [
    "!conda activate dash"
   ]
  },
  {
   "cell_type": "code",
   "execution_count": 2,
   "metadata": {},
   "outputs": [
    {
     "name": "stdout",
     "output_type": "stream",
     "text": [
      "Collecting dash==0.39.0\n",
      "  Downloading dash-0.39.0.tar.gz (40 kB)\n",
      "Requirement already satisfied: Flask>=0.12 in c:\\users\\steve\\anaconda3\\lib\\site-packages (from dash==0.39.0) (1.1.1)\n",
      "Collecting flask-compress\n",
      "  Downloading Flask-Compress-1.5.0.tar.gz (6.5 kB)\n",
      "Requirement already satisfied: plotly in c:\\users\\steve\\anaconda3\\lib\\site-packages (from dash==0.39.0) (4.9.0)\n",
      "Collecting dash_renderer==0.20.0\n",
      "  Downloading dash_renderer-0.20.0.tar.gz (920 kB)\n",
      "Collecting dash-core-components==0.44.0\n",
      "  Downloading dash_core_components-0.44.0.tar.gz (4.2 MB)\n",
      "Collecting dash-html-components==0.14.0\n",
      "  Downloading dash_html_components-0.14.0.tar.gz (537 kB)\n",
      "Collecting dash-table==3.6.0\n",
      "  Downloading dash_table-3.6.0.tar.gz (468 kB)\n",
      "Requirement already satisfied: click>=5.1 in c:\\users\\steve\\anaconda3\\lib\\site-packages (from Flask>=0.12->dash==0.39.0) (7.0)\n",
      "Requirement already satisfied: itsdangerous>=0.24 in c:\\users\\steve\\anaconda3\\lib\\site-packages (from Flask>=0.12->dash==0.39.0) (1.1.0)\n",
      "Requirement already satisfied: Jinja2>=2.10.1 in c:\\users\\steve\\anaconda3\\lib\\site-packages (from Flask>=0.12->dash==0.39.0) (2.11.1)\n",
      "Requirement already satisfied: Werkzeug>=0.15 in c:\\users\\steve\\anaconda3\\lib\\site-packages (from Flask>=0.12->dash==0.39.0) (1.0.0)\n",
      "Collecting brotli\n",
      "  Downloading Brotli-1.0.7-cp37-cp37m-win_amd64.whl (358 kB)\n",
      "Requirement already satisfied: six in c:\\users\\steve\\anaconda3\\lib\\site-packages (from plotly->dash==0.39.0) (1.14.0)\n",
      "Requirement already satisfied: retrying>=1.3.3 in c:\\users\\steve\\anaconda3\\lib\\site-packages (from plotly->dash==0.39.0) (1.3.3)\n",
      "Requirement already satisfied: MarkupSafe>=0.23 in c:\\users\\steve\\anaconda3\\lib\\site-packages (from Jinja2>=2.10.1->Flask>=0.12->dash==0.39.0) (1.1.1)\n",
      "Building wheels for collected packages: dash, flask-compress, dash-renderer, dash-core-components, dash-html-components, dash-table\n",
      "  Building wheel for dash (setup.py): started\n",
      "  Building wheel for dash (setup.py): finished with status 'done'\n",
      "  Created wheel for dash: filename=dash-0.39.0-py3-none-any.whl size=44195 sha256=a37bf38bd139fab674f844f39e4a4c7611bca2595abca24075aae340839bb5e6\n",
      "  Stored in directory: c:\\users\\steve\\appdata\\local\\pip\\cache\\wheels\\3a\\8e\\16\\17a7df4fb95f9013240073ceb3991030080ae93618dd0c2f59\n",
      "  Building wheel for flask-compress (setup.py): started\n",
      "  Building wheel for flask-compress (setup.py): finished with status 'done'\n",
      "  Created wheel for flask-compress: filename=Flask_Compress-1.5.0-py3-none-any.whl size=5277 sha256=d867dbbb7a6c8f721729035cdeeea63721c025abb30fa610e7bebadf42a0cad7\n",
      "  Stored in directory: c:\\users\\steve\\appdata\\local\\pip\\cache\\wheels\\d6\\9f\\c9\\4bf2abf65cceaa8d19423bc34b88443b3b063f167d2082c212\n",
      "  Building wheel for dash-renderer (setup.py): started\n",
      "  Building wheel for dash-renderer (setup.py): finished with status 'done'\n",
      "  Created wheel for dash-renderer: filename=dash_renderer-0.20.0-py3-none-any.whl size=933723 sha256=28cd9576774595349a8a8053bf6a11fcdc4c23ff6fef06e1643dfd0584922d59\n",
      "  Stored in directory: c:\\users\\steve\\appdata\\local\\pip\\cache\\wheels\\ff\\fc\\f8\\4d83004b3bf2a4d803807ea24864920b6f6fd677222473f385\n",
      "  Building wheel for dash-core-components (setup.py): started\n",
      "  Building wheel for dash-core-components (setup.py): finished with status 'done'\n",
      "  Created wheel for dash-core-components: filename=dash_core_components-0.44.0-py3-none-any.whl size=4203065 sha256=29bbc4bbda83da414eede6e1835b4340d10630ab1b8d15665c0bf322b7725d86\n",
      "  Stored in directory: c:\\users\\steve\\appdata\\local\\pip\\cache\\wheels\\bd\\9f\\63\\93c5263994d6e64400cc8ec9c0d7ad52c500afe42101a22907\n",
      "  Building wheel for dash-html-components (setup.py): started\n",
      "  Building wheel for dash-html-components (setup.py): finished with status 'done'\n",
      "  Created wheel for dash-html-components: filename=dash_html_components-0.14.0-py3-none-any.whl size=763655 sha256=743120b1043c788ab6ed72766f6770b797c26c198390950fb17df52457a96fbd\n",
      "  Stored in directory: c:\\users\\steve\\appdata\\local\\pip\\cache\\wheels\\3c\\f4\\13\\fed97ed54980c872042facfd05ef17f1cecbf3a5450d640892\n",
      "  Building wheel for dash-table (setup.py): started\n",
      "  Building wheel for dash-table (setup.py): finished with status 'done'\n",
      "  Created wheel for dash-table: filename=dash_table-3.6.0-py3-none-any.whl size=472767 sha256=cb1a2eb0a6dec4e2d4bb23a6f47ec1a1b2af11d8a7feac4706a22511c0f677b1\n",
      "  Stored in directory: c:\\users\\steve\\appdata\\local\\pip\\cache\\wheels\\8c\\0f\\35\\40a75a9ec867baf598fb34144a93413922c28d70d196af9197\n",
      "Successfully built dash flask-compress dash-renderer dash-core-components dash-html-components dash-table\n",
      "Installing collected packages: brotli, flask-compress, dash-renderer, dash-core-components, dash-html-components, dash-table, dash\n",
      "Successfully installed brotli-1.0.7 dash-0.39.0 dash-core-components-0.44.0 dash-html-components-0.14.0 dash-renderer-0.20.0 dash-table-3.6.0 flask-compress-1.5.0\n",
      "Requirement already satisfied: dash-html-components==0.14.0 in c:\\users\\steve\\anaconda3\\lib\\site-packages (0.14.0)\n",
      "Requirement already satisfied: dash-core-components==0.44.0 in c:\\users\\steve\\anaconda3\\lib\\site-packages (0.44.0)\n",
      "Requirement already satisfied: dash-table==3.6.0 in c:\\users\\steve\\anaconda3\\lib\\site-packages (3.6.0)\n",
      "Collecting dash-daq==0.1.0\n",
      "  Downloading dash_daq-0.1.0.tar.gz (775 kB)\n",
      "Building wheels for collected packages: dash-daq\n",
      "  Building wheel for dash-daq (setup.py): started\n",
      "  Building wheel for dash-daq (setup.py): finished with status 'done'\n",
      "  Created wheel for dash-daq: filename=dash_daq-0.1.0-py3-none-any.whl size=786285 sha256=f674d7df6c4411fc59d1299297005ae0ea3b9d92f6f867f7bd39439ce720e296\n",
      "  Stored in directory: c:\\users\\steve\\appdata\\local\\pip\\cache\\wheels\\c9\\03\\db\\cbde068434a8e75325be12807ef457165edcdb38d50d60fc3d\n",
      "Successfully built dash-daq\n",
      "Installing collected packages: dash-daq\n",
      "Successfully installed dash-daq-0.1.0\n"
     ]
    }
   ],
   "source": [
    "!pip install dash==0.39.0  \n",
    "!pip install dash-html-components==0.14.0  \n",
    "!pip install dash-core-components==0.44.0  \n",
    "!pip install dash-table==3.6.0  \n",
    "!pip install dash-daq==0.1.0  "
   ]
  },
  {
   "cell_type": "code",
   "execution_count": null,
   "metadata": {},
   "outputs": [],
   "source": []
  }
 ],
 "metadata": {
  "kernelspec": {
   "display_name": "Python 3",
   "language": "python",
   "name": "python3"
  },
  "language_info": {
   "codemirror_mode": {
    "name": "ipython",
    "version": 3
   },
   "file_extension": ".py",
   "mimetype": "text/x-python",
   "name": "python",
   "nbconvert_exporter": "python",
   "pygments_lexer": "ipython3",
   "version": "3.7.6"
  }
 },
 "nbformat": 4,
 "nbformat_minor": 4
}
